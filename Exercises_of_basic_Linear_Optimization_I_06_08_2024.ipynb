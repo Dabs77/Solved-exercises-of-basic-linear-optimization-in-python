{
  "nbformat": 4,
  "nbformat_minor": 0,
  "metadata": {
    "colab": {
      "provenance": []
    },
    "kernelspec": {
      "name": "python3",
      "display_name": "Python 3"
    },
    "language_info": {
      "name": "python"
    }
  },
  "cells": [
    {
      "cell_type": "markdown",
      "source": [
        "#**Problem**\n",
        "A person wants to follow a diet that meets their nutritional requirements\n",
        "minimizing its cost. To achieve its objective, it has different foods:\n",
        "$700$ $grams$ of nuts with a cost of $\\$15$ $gr$, $2$ $kilograms$ of supplement in\n",
        "powder with a cost of $\\$4500/pound$ and 5 liters of liquid supplement with a cost of\n",
        "$\\$12000/liter$. It is known that each gram of nuts provides $1 unit$ of protein, $3 units$ of carbohydrates and 4 units of fat; the powder supplement provides $3 units$ of protein, $3 units$ of carbohydrates and $1 unit$ of fat; the supplement liquid provides $2$ $units$ of protein, $3$ $units$ of carbohydrates and $2$ $units$ of fat. The dietary requirement is a minimum of $80$ protein $units$, a minimum of $90$\n",
        "$units$ of carbohydrates and exactly $65$ $units$ of fat. Assume that one pound. They are $500$ $grams$ and that can be the equivalent of $1$ $liter$ = $1$ $kilogram$.\n",
        "\n",
        "\n",
        "\n",
        ""
      ],
      "metadata": {
        "id": "JgQ8L3qNHHZh"
      }
    },
    {
      "cell_type": "markdown",
      "source": [
        "#**Planteamiento**\n",
        "**Variables de decisión:**  \n",
        "* X1: Cantidad de gramos de Frutos Secos\n",
        "* X2: Cantidad de gramos de suplemento en polvo  \n",
        "* X3 : Cantidad de gramos de suplemento líquido\n",
        "\n",
        "**Objetivo: F.O:**\n",
        "\n",
        "$F.O:$ $Mín(𝑍) = 15𝑋1+9𝑋2+12𝑋3$\n",
        "\n",
        "\n",
        "**S.A:**\n",
        "\n",
        "* **Restricciones:** en términos de los parámetros\n",
        "\n",
        "  * **Mínimo de cada componente:**\n",
        "    * $UDP: 𝑋1+3𝑋2+2𝑋3 ≥80$\n",
        "    * $UDC: 3𝑋1+3𝑋2+3𝑋3 ≥90$\n",
        "    * $UDG: 4𝑋1+𝑋2+2𝑋3 =65$\n",
        "\n",
        "  *   **Máximo de suplementos para comprar:**\n",
        "\n",
        "    * $Frutos rojos: 𝑋1 ≤ 700$\n",
        "    * $Suplemento en polvo: 𝑋2 ≤ 2000$\n",
        "    * $Suplemento líquido: 𝑋3 ≤ 5000$\n",
        "\n",
        "Añadir restricciones de no negatividad: $𝑋1,𝑋2,𝑋3 ≥ 0$"
      ],
      "metadata": {
        "id": "Or0FAepTHZcp"
      }
    },
    {
      "cell_type": "code",
      "source": [
        "!pip install cplex"
      ],
      "metadata": {
        "colab": {
          "base_uri": "https://localhost:8080/"
        },
        "id": "NI5L9LuQJH6p",
        "outputId": "0b31572c-37dc-4cd0-f766-822752ad0b64"
      },
      "execution_count": 3,
      "outputs": [
        {
          "output_type": "stream",
          "name": "stdout",
          "text": [
            "Collecting cplex\n",
            "  Downloading cplex-22.1.1.2-cp310-cp310-manylinux1_x86_64.whl.metadata (56 kB)\n",
            "\u001b[2K     \u001b[90m━━━━━━━━━━━━━━━━━━━━━━━━━━━━━━━━━━━━━━━━\u001b[0m \u001b[32m57.0/57.0 kB\u001b[0m \u001b[31m904.5 kB/s\u001b[0m eta \u001b[36m0:00:00\u001b[0m\n",
            "\u001b[?25hDownloading cplex-22.1.1.2-cp310-cp310-manylinux1_x86_64.whl (44.2 MB)\n",
            "\u001b[2K   \u001b[90m━━━━━━━━━━━━━━━━━━━━━━━━━━━━━━━━━━━━━━━━\u001b[0m \u001b[32m44.2/44.2 MB\u001b[0m \u001b[31m14.9 MB/s\u001b[0m eta \u001b[36m0:00:00\u001b[0m\n",
            "\u001b[?25hInstalling collected packages: cplex\n",
            "Successfully installed cplex-22.1.1.2\n"
          ]
        }
      ]
    },
    {
      "cell_type": "code",
      "source": [
        "!pip install docplex"
      ],
      "metadata": {
        "colab": {
          "base_uri": "https://localhost:8080/"
        },
        "id": "_pyzVHlkKOw_",
        "outputId": "2a2abf68-be38-46a9-99ca-4bcc9c06837b"
      },
      "execution_count": 4,
      "outputs": [
        {
          "output_type": "stream",
          "name": "stdout",
          "text": [
            "Collecting docplex\n",
            "  Downloading docplex-2.28.240.tar.gz (643 kB)\n",
            "\u001b[2K     \u001b[90m━━━━━━━━━━━━━━━━━━━━━━━━━━━━━━━━━━━━━━━━\u001b[0m \u001b[32m643.4/643.4 kB\u001b[0m \u001b[31m3.5 MB/s\u001b[0m eta \u001b[36m0:00:00\u001b[0m\n",
            "\u001b[?25h  Installing build dependencies ... \u001b[?25l\u001b[?25hdone\n",
            "  Getting requirements to build wheel ... \u001b[?25l\u001b[?25hdone\n",
            "  Installing backend dependencies ... \u001b[?25l\u001b[?25hdone\n",
            "  Preparing metadata (pyproject.toml) ... \u001b[?25l\u001b[?25hdone\n",
            "Requirement already satisfied: six in /usr/local/lib/python3.10/dist-packages (from docplex) (1.16.0)\n",
            "Building wheels for collected packages: docplex\n",
            "  Building wheel for docplex (pyproject.toml) ... \u001b[?25l\u001b[?25hdone\n",
            "  Created wheel for docplex: filename=docplex-2.28.240-py3-none-any.whl size=682834 sha256=6877cd75e62394e939bd0140fde7772bdd83337d5541349575e4f1fd1b8c049b\n",
            "  Stored in directory: /root/.cache/pip/wheels/1b/ec/59/cc07dedc67b032a492201f6f26c1f3c9e667ef208c9213ba6d\n",
            "Successfully built docplex\n",
            "Installing collected packages: docplex\n",
            "Successfully installed docplex-2.28.240\n"
          ]
        }
      ]
    },
    {
      "cell_type": "code",
      "source": [
        "# first import the Model class from docplex.mp\n",
        "from docplex.mp.model import Model"
      ],
      "metadata": {
        "id": "EOfMrsaNKUym"
      },
      "execution_count": 5,
      "outputs": []
    },
    {
      "cell_type": "code",
      "source": [
        "m= Model(name='dieta')"
      ],
      "metadata": {
        "id": "gtHjGvYzL0uT"
      },
      "execution_count": 6,
      "outputs": []
    },
    {
      "cell_type": "code",
      "source": [
        "X1=m.continuous_var(name='x1')\n",
        "X2=m.continuous_var(name='x2')\n",
        "X3=m.continuous_var(name='x3')"
      ],
      "metadata": {
        "colab": {
          "base_uri": "https://localhost:8080/"
        },
        "id": "C80uAqRLL4jL",
        "outputId": "c6897ddf-1869-4d2f-e20d-da97134f11fd"
      },
      "execution_count": 10,
      "outputs": [
        {
          "output_type": "stream",
          "name": "stdout",
          "text": [
            "Warning: Duplicate variable name: x1 already used for docplex.mp.Var(type=C,name='x1')\n",
            "Warning: Duplicate variable name: x2 already used for docplex.mp.Var(type=C,name='x2')\n",
            "Warning: Duplicate variable name: x3 already used for docplex.mp.Var(type=C,name='x3')\n"
          ]
        }
      ]
    },
    {
      "cell_type": "markdown",
      "source": [
        "#**Constraints**"
      ],
      "metadata": {
        "id": "IjtUmvHKMn7i"
      }
    },
    {
      "cell_type": "code",
      "source": [
        "restriction1=m.add_constraint(X1+3*X2+2*X3>=80)"
      ],
      "metadata": {
        "id": "oQyg2wTwMihY"
      },
      "execution_count": 15,
      "outputs": []
    },
    {
      "cell_type": "code",
      "source": [
        "restriction2=m.add_constraint(3*X1+3*X2+3*X3>=90)"
      ],
      "metadata": {
        "id": "KmQTBDwaMyDC"
      },
      "execution_count": 16,
      "outputs": []
    },
    {
      "cell_type": "code",
      "source": [
        "restriction3=m.add_constraint(4*X1+X2+2*X3==65)"
      ],
      "metadata": {
        "id": "M7sWqP8BM3Es"
      },
      "execution_count": 17,
      "outputs": []
    },
    {
      "cell_type": "code",
      "source": [
        "restriction4=m.add_constraint(X1<=700)\n",
        "restriction5=m.add_constraint(X2<=2000)\n",
        "restriction6=m.add_constraint(X3<=5000)"
      ],
      "metadata": {
        "id": "EmvzKSRPM6Ct"
      },
      "execution_count": 18,
      "outputs": []
    },
    {
      "cell_type": "markdown",
      "source": [
        "#**Target Funtion**"
      ],
      "metadata": {
        "id": "5B0GJdrkNXAn"
      }
    },
    {
      "cell_type": "code",
      "source": [
        "m.minimize(15*X1+9*X2+12*X3)"
      ],
      "metadata": {
        "id": "wqZ3DIgVM-W-"
      },
      "execution_count": 19,
      "outputs": []
    },
    {
      "cell_type": "code",
      "source": [
        "m.print_information()"
      ],
      "metadata": {
        "colab": {
          "base_uri": "https://localhost:8080/"
        },
        "id": "HUClQYMXNgmy",
        "outputId": "3af878a2-02cb-487e-d725-e3789c552cba"
      },
      "execution_count": 20,
      "outputs": [
        {
          "output_type": "stream",
          "name": "stdout",
          "text": [
            "Model: dieta\n",
            " - number of variables: 9\n",
            "   - binary=0, integer=0, continuous=9\n",
            " - number of constraints: 12\n",
            "   - linear=12\n",
            " - parameters: defaults\n",
            " - objective: minimize\n",
            " - problem type is: LP\n"
          ]
        }
      ]
    },
    {
      "cell_type": "markdown",
      "source": [
        "#**Solution**"
      ],
      "metadata": {
        "id": "4wC0nP6oNnyH"
      }
    },
    {
      "cell_type": "code",
      "source": [
        "s = m.solve()\n",
        "m.print_solution()"
      ],
      "metadata": {
        "colab": {
          "base_uri": "https://localhost:8080/"
        },
        "id": "RRQyS3cHNpPj",
        "outputId": "3d3d2f30-a238-4bcb-960d-71601ce536f8"
      },
      "execution_count": 21,
      "outputs": [
        {
          "output_type": "stream",
          "name": "stdout",
          "text": [
            "objective: 365.455\n",
            "status: OPTIMAL_SOLUTION(2)\n",
            "  x1=10.455\n",
            "  x2=23.182\n"
          ]
        }
      ]
    },
    {
      "cell_type": "markdown",
      "source": [
        "#**Ejemplo 2**\n",
        "\n",
        "Una fábrica de bolígrafos produce dos tipos de productos para los que necesita ciertas\n",
        "materias primas como los cuerpos de los bolígrafos y diversas combinaciones de tinta.\n",
        "Para cada bolígrafo de tipo uno, requiere $2$ $ml$ de tinta negra y $3$ $ml$ de tinta azul,\n",
        "mientras que para los bolígrafos tipo dos se requieren $2$ $ml$ de tinta negra y $2$ $ml$ de\n",
        "tinta roja. Se sabe, además, que los bolígrafos tipo 1 tienen un cuerpo de plástico,\n",
        "mientras que los bolígrafos tipo 2 requieren un cuerpo de metal. Las tapas de los dos\n",
        "tipos de bolígrafos son las mismas. Para un lote de producción, se cuenta con $1.2$ $litros$\n",
        "de tinta negra, $1$ $litro$ de tinta azul y $0.8$ $litros$ de tinta roja; se dispone de $800$ $cuerpos$\n",
        "plásticos, $750$ $cuerpos$ $metalizados$ y $1200$ $tapas$. La rentabilidad de los bolígrafos luego\n",
        "de cubrir los costos es de COP $\\$350$ por bolígrafos plásticos y COP $\\$420$ por bolígrafos\n",
        "metalizados. Se requiere maximizar la rentabilidad por venta de bolígrafos."
      ],
      "metadata": {
        "id": "VsV7uVWdNuyO"
      }
    },
    {
      "cell_type": "markdown",
      "source": [
        "#**Planteamiento del modelo**\n",
        "\n",
        "**Variables de decisión:** cantidad de bolígrafos de cada tipo a producir\n",
        "  * X: Cantidad de bolígrafos tipo I\n",
        "  * Y: Cantidad de bolígrafos tipo II\n",
        "\n",
        "**Función objetivo**\n",
        "  * $F.O:$ $Máx(𝑍)$ = $350𝑋 + 420𝑌$\n",
        "\n",
        "**Restricciones**: en términos de los parámetros\n",
        "\n",
        "  * $Tinta negra:$ $2𝑋 + 2𝑌 ≤1200$ $𝑚𝑙$\n",
        "  * $Tinta azul:$ $3𝑋 + 0𝑌 ≤ 1000$ $𝑚𝑙$\n",
        "  * $Tinta roja:$ $0𝑋 + 2𝑌 ≤800$ $𝑚𝑙$\n",
        "  * $Cuerpos plásticos:$ $X +0𝑌 ≤800$ $und$\n",
        "  * $Cuerpos metalizados:$ $0𝑋+𝑌≤750$\n",
        "  * $Tapas:$ $𝑋+𝑌≤1200$\n",
        "\n",
        "Añadir restricciones de no negatividad: $𝑋 ≥ 0$ $;$ $𝑌 ≥ 0$"
      ],
      "metadata": {
        "id": "CPNe_ACcOnSL"
      }
    },
    {
      "cell_type": "code",
      "source": [
        "m2=Model(name=\"Boligrafos\")"
      ],
      "metadata": {
        "id": "UfBdSCqTOt1c"
      },
      "execution_count": 22,
      "outputs": []
    },
    {
      "cell_type": "code",
      "source": [
        "Y1=m2.continuous_var(name='Boligrafos tipo 1')\n",
        "Y2=m2.continuous_var(name='Boligrafos tipo 2')"
      ],
      "metadata": {
        "id": "BPkDSuPCO9wP"
      },
      "execution_count": 25,
      "outputs": []
    },
    {
      "cell_type": "markdown",
      "source": [
        "#**Constraints**"
      ],
      "metadata": {
        "id": "zr0E9dtGO9wR"
      }
    },
    {
      "cell_type": "code",
      "source": [
        "restriction1_2=m2.add_constraint(2*Y1+2*Y2<=1200)\n",
        "restriction2_2=m2.add_constraint(3*Y1<=1000)\n",
        "restriction3_2=m2.add_constraint(2*Y2<=800)"
      ],
      "metadata": {
        "id": "DMQYGV5PO9wR"
      },
      "execution_count": 26,
      "outputs": []
    },
    {
      "cell_type": "code",
      "source": [
        "restriction4_2=m2.add_constraint(Y1<=800)\n",
        "restriction5_2=m2.add_constraint(Y2<=750)\n",
        "restriction6_2=m2.add_constraint(Y1+Y2<=1200)"
      ],
      "metadata": {
        "id": "WtNkwKqCO9wR"
      },
      "execution_count": 27,
      "outputs": []
    },
    {
      "cell_type": "markdown",
      "source": [
        "#**Target Funtion**"
      ],
      "metadata": {
        "id": "LUJ8CQ-AO9wS"
      }
    },
    {
      "cell_type": "code",
      "source": [
        "m2.maximize(350*Y1+420*Y2)"
      ],
      "metadata": {
        "id": "COSbiBBlO9wS"
      },
      "execution_count": 28,
      "outputs": []
    },
    {
      "cell_type": "code",
      "source": [
        "m2.print_information()"
      ],
      "metadata": {
        "colab": {
          "base_uri": "https://localhost:8080/"
        },
        "outputId": "9843d4bc-07e4-406f-8870-55801315d8d1",
        "id": "UDXuRVNpO9wS"
      },
      "execution_count": 29,
      "outputs": [
        {
          "output_type": "stream",
          "name": "stdout",
          "text": [
            "Model: Boligrafos\n",
            " - number of variables: 5\n",
            "   - binary=0, integer=0, continuous=5\n",
            " - number of constraints: 6\n",
            "   - linear=6\n",
            " - parameters: defaults\n",
            " - objective: maximize\n",
            " - problem type is: LP\n"
          ]
        }
      ]
    },
    {
      "cell_type": "markdown",
      "source": [
        "#**Solution**"
      ],
      "metadata": {
        "id": "4oRoaYOuO9wS"
      }
    },
    {
      "cell_type": "code",
      "source": [
        "s2 = m2.solve()\n",
        "m2.print_solution()"
      ],
      "metadata": {
        "colab": {
          "base_uri": "https://localhost:8080/"
        },
        "outputId": "5c3aeae1-cc0e-40c4-cdba-643312393d0c",
        "id": "TBQsvqddO9wS"
      },
      "execution_count": 30,
      "outputs": [
        {
          "output_type": "stream",
          "name": "stdout",
          "text": [
            "objective: 238000.000\n",
            "status: OPTIMAL_SOLUTION(2)\n",
            "  \"Boligrafos tipo 1\"=200.000\n",
            "  \"Boligrafos tipo 2\"=400.000\n"
          ]
        }
      ]
    },
    {
      "cell_type": "markdown",
      "source": [
        "##**GPT 4o Solution**\n",
        "\n",
        "For prove :)"
      ],
      "metadata": {
        "id": "uYr93qxtQcJ4"
      }
    },
    {
      "cell_type": "code",
      "source": [
        "!pip install pulp"
      ],
      "metadata": {
        "colab": {
          "base_uri": "https://localhost:8080/"
        },
        "id": "-culcvAYQesG",
        "outputId": "460835e3-be76-42ae-f0fd-abe252f842d7"
      },
      "execution_count": 31,
      "outputs": [
        {
          "output_type": "stream",
          "name": "stdout",
          "text": [
            "Collecting pulp\n",
            "  Downloading PuLP-2.9.0-py3-none-any.whl.metadata (5.4 kB)\n",
            "Downloading PuLP-2.9.0-py3-none-any.whl (17.7 MB)\n",
            "\u001b[2K   \u001b[90m━━━━━━━━━━━━━━━━━━━━━━━━━━━━━━━━━━━━━━━━\u001b[0m \u001b[32m17.7/17.7 MB\u001b[0m \u001b[31m79.6 MB/s\u001b[0m eta \u001b[36m0:00:00\u001b[0m\n",
            "\u001b[?25hInstalling collected packages: pulp\n",
            "Successfully installed pulp-2.9.0\n"
          ]
        }
      ]
    },
    {
      "cell_type": "code",
      "source": [
        "import pulp\n",
        "\n",
        "# Crear el problema de maximización\n",
        "prob = pulp.LpProblem(\"Maximizar_Rentabilidad\", pulp.LpMaximize)\n",
        "\n",
        "# Definir las variables de decisión\n",
        "X = pulp.LpVariable('X', lowBound=0, cat='Integer')  # Bolígrafos tipo I\n",
        "Y = pulp.LpVariable('Y', lowBound=0, cat='Integer')  # Bolígrafos tipo II\n",
        "\n",
        "# Definir la función objetivo\n",
        "prob += 350 * X + 420 * Y, \"Rentabilidad Total\"\n",
        "\n",
        "# Definir las restricciones\n",
        "prob += 2 * X + 2 * Y <= 1200, \"Tinta Negra\"\n",
        "prob += 3 * X <= 1000, \"Tinta Azul\"\n",
        "prob += 2 * Y <= 800, \"Tinta Roja\"\n",
        "prob += X <= 800, \"Cuerpos Plásticos\"\n",
        "prob += Y <= 750, \"Cuerpos Metalizados\"\n",
        "prob += X + Y <= 1200, \"Tapas\"\n",
        "\n",
        "# Resolver el problema\n",
        "prob.solve()\n",
        "\n",
        "# Mostrar el estado de la solución\n",
        "print(\"Estado:\", pulp.LpStatus[prob.status])\n",
        "\n",
        "# Mostrar los valores óptimos de las variables\n",
        "print(\"Cantidad de bolígrafos tipo I a producir:\", pulp.value(X))\n",
        "print(\"Cantidad de bolígrafos tipo II a producir:\", pulp.value(Y))\n",
        "\n",
        "# Mostrar el valor óptimo de la función objetivo\n",
        "print(\"Rentabilidad máxima:\", pulp.value(prob.objective))\n"
      ],
      "metadata": {
        "colab": {
          "base_uri": "https://localhost:8080/"
        },
        "id": "jGFugRZ1QiAD",
        "outputId": "0bb99726-695e-4088-c042-3af789d7b58e"
      },
      "execution_count": 32,
      "outputs": [
        {
          "output_type": "stream",
          "name": "stdout",
          "text": [
            "Estado: Optimal\n",
            "Cantidad de bolígrafos tipo I a producir: 200.0\n",
            "Cantidad de bolígrafos tipo II a producir: 400.0\n",
            "Rentabilidad máxima: 238000.0\n"
          ]
        }
      ]
    }
  ]
}